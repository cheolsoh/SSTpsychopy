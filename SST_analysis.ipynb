{
 "cells": [
  {
   "cell_type": "code",
   "execution_count": 3,
   "metadata": {},
   "outputs": [],
   "source": [
    "import pandas\n",
    "import glob\n",
    "import matplotlib.pyplot as plt\n",
    "import seaborn as sns\n",
    "import numpy as np\n",
    "import scipy.stats as stats\n"
   ]
  },
  {
   "cell_type": "code",
   "execution_count": 12,
   "metadata": {},
   "outputs": [],
   "source": [
    "def SSTbehav(infilename):\n",
    "    \n",
    "    # Import from a csv file with a header\n",
    "    df=pandas.read_csv(infilename,skipfooter=1)\n",
    "    \n",
    "    # Re-name columns\n",
    "    df.columns = ['Block','TrialType','Arrow','Response','leftSSD','rightSSD','ACC','RT']\n",
    "    \n",
    "    # Check the number of stop trials\n",
    "    if np.sum(df.TrialType) != 100:\n",
    "        print(\"Stop trial number is wrong! (\" + str(np.sum(df.TrialType)) + \")\")\n",
    "    \n",
    "    # Compare correct GO RT vs. Failed Stop RT\n",
    "    # GO RT should be slower than Failed Stop RT\n",
    "    GoTrials = df.loc[(df.TrialType==0) & (df.ACC==1), :]\n",
    "    FsTrials = df.loc[(df.loc[:,'ACC']==4) & (df.loc[:,'RT']<1000), :] # failed stop RT<1000ms included\n",
    "    GoRT = np.mean(GoTrials.RT)\n",
    "    FsRT = np.mean(FsTrials.RT)\n",
    "    \n",
    "    # Check if p(STOP) converges to .5\n",
    "    StopTrialNum = np.sum(df.TrialType) # get # of stop trials\n",
    "    SuccessStopNum = np.sum(df.ACC == 3) # get # of failed stop trials\n",
    "    p_stop = SuccessStopNum/StopTrialNum\n",
    "    \n",
    "    # SSRT (Stop Signal Reaction Time) calculation with replacement with Go omission trials\n",
    "    # Make a new RT2 column\n",
    "    df.loc[:,'RT2'] = df.RT\n",
    "\n",
    "    # Replace Go omission (miss) trials with longest GO RT\n",
    "    df.loc[df.ACC==0,'RT2'] = np.max(df.RT2)\n",
    "    \n",
    "    # Get p(response|STOPSIGNAL): probability of failed stop\n",
    "    FailedStopNum = np.sum(df.ACC == 4) # get # of failed stop trials\n",
    "    p_resp = FailedStopNum / StopTrialNum # calculate p(respond|STOP)\n",
    "    \n",
    "    # Get RT from GO distribution\n",
    "    # Find n-th fastest RT, here n = p_resp * 100\n",
    "    AllGoTrials = df.loc[(df.TrialType==0), :]\n",
    "    NthRT = np.percentile(np.sort(AllGoTrials.RT), p_resp*100)\n",
    "    \n",
    "    # Get one SSD from each trial (if left arrow -> get leftSSD)\n",
    "    for i in range(0,df.shape[0]):\n",
    "        if df.Arrow[0] == 1:\n",
    "            df.loc[i,'SSD'] = df.leftSSD[i]\n",
    "        else:\n",
    "            df.loc[i,'SSD'] = df.rightSSD[i]\n",
    "\n",
    "    # Get all stop trials\n",
    "    StopTrials = df.loc[df.loc[:,'TrialType']==1,:]\n",
    "\n",
    "    # Get mean SSD (SSDs in Go trials don't mean anything )\n",
    "    avgSSD = np.mean(StopTrials.SSD)\n",
    "    \n",
    "    # Calculate SSRT \n",
    "    # Also calculate SSRT using mean method (meanGO RT - mean SSD)\n",
    "    SSRTint = NthRT - avgSSD #integration method : NthGO RT - mean SSD\n",
    "    SSRTmean = GoRT - avgSSD #mean method: mean correct GO RT - mean SSD\n",
    "\n",
    "\n",
    "    return GoRT, FsRT, p_stop, avgSSD, SSRTint, SSRTmean\n",
    "    \n"
   ]
  },
  {
   "cell_type": "code",
   "execution_count": 13,
   "metadata": {},
   "outputs": [
    {
     "name": "stderr",
     "output_type": "stream",
     "text": [
      "/opt/anaconda3/envs/psychopy/lib/python3.6/site-packages/ipykernel_launcher.py:4: ParserWarning: Falling back to the 'python' engine because the 'c' engine does not support skipfooter; you can avoid this warning by specifying engine='python'.\n",
      "  after removing the cwd from sys.path.\n"
     ]
    },
    {
     "name": "stdout",
     "output_type": "stream",
     "text": [
      "GO RT vs. Failed Stop RT\n",
      "t(4) = 6.730, p = 0.003\n",
      "  SubID        GoRT        FsRT  p_stop  avgSSD  SSRTint    SSRTmean\n",
      "0   101  478.702564  465.829787    0.51   317.0   153.00  161.702564\n",
      "0   102  419.171717  389.000000    0.50   211.5   190.00  207.671717\n",
      "0   103  418.725888  390.411765    0.49   156.5   260.99  262.225888\n",
      "0   104  448.715000  421.680000    0.50   231.0   220.50  217.715000\n",
      "0   105  469.707071  431.913043    0.53   257.5   212.03  212.207071\n"
     ]
    }
   ],
   "source": [
    "infiles = glob.glob(\"./Subject*.csv\")\n",
    "infiles = np.sort(infiles)\n",
    "\n",
    "data = {'SubID':[],'GoRT':[], 'FsRT':[], 'p_stop':[], 'avgSSD':[], 'SSRTint':[], 'SSRTmean':[]}\n",
    "df = pandas.DataFrame(data=data)\n",
    "\n",
    "for i in range(0,len(infiles)):\n",
    "    GoRT, FsRT, p_stop, avgSSD, SSRTint, SSRTmean = SSTbehav(infiles[i])\n",
    "    data = {'SubID':infiles[i][9:12],'GoRT':GoRT, 'FsRT':FsRT, 'p_stop':p_stop, 'avgSSD':avgSSD, 'SSRTint':SSRTint, 'SSRTmean':SSRTmean}\n",
    "    df1 = pandas.DataFrame(data=data, index=[0])\n",
    "    df = df.append(df1)\n",
    "#print(df)\n",
    "\n",
    "t, p = stats.ttest_rel(df.GoRT ,df.FsRT)\n",
    "print(\"GO RT vs. Failed Stop RT\")\n",
    "print(\"t(\" + str(df.shape[0]-1) + \") = \" + f\"{t:.3f}\" + \", p = \" + f\"{p:.3f}\")\n",
    "\n",
    "print(df)\n",
    "\n",
    "df.to_csv('GroupData.csv')"
   ]
  },
  {
   "cell_type": "code",
   "execution_count": 8,
   "metadata": {},
   "outputs": [
    {
     "name": "stdout",
     "output_type": "stream",
     "text": [
      "['./Subject101_10492004.csv' './Subject102_11522004.csv'\n",
      " './Subject103_12302004.csv' './Subject104_23182004.csv'\n",
      " './Subject105_22572604.csv']\n"
     ]
    }
   ],
   "source": [
    "infiles = np.sort(infiles)\n",
    "print(infiles)"
   ]
  },
  {
   "cell_type": "code",
   "execution_count": 9,
   "metadata": {},
   "outputs": [
    {
     "name": "stderr",
     "output_type": "stream",
     "text": [
      "/opt/anaconda3/envs/psychopy/lib/python3.6/site-packages/ipykernel_launcher.py:1: ParserWarning: Falling back to the 'python' engine because the 'c' engine does not support skipfooter; you can avoid this warning by specifying engine='python'.\n",
      "  \"\"\"Entry point for launching an IPython kernel.\n"
     ]
    },
    {
     "data": {
      "text/plain": [
       "200"
      ]
     },
     "execution_count": 9,
     "metadata": {},
     "output_type": "execute_result"
    }
   ],
   "source": [
    "df=pandas.read_csv(infiles[0],skipfooter=1)\n",
    "    \n",
    "# Re-name columns\n",
    "df.columns = ['Block','TrialType','Arrow','Response','leftSSD','rightSSD','ACC','RT']\n",
    "AllGoTrials = df.loc[(df.TrialType==0), :]\n",
    "AllGoTrials.shape[0]"
   ]
  },
  {
   "cell_type": "code",
   "execution_count": null,
   "metadata": {},
   "outputs": [],
   "source": []
  }
 ],
 "metadata": {
  "kernelspec": {
   "display_name": "Python 3",
   "language": "python",
   "name": "python3"
  },
  "language_info": {
   "codemirror_mode": {
    "name": "ipython",
    "version": 3
   },
   "file_extension": ".py",
   "mimetype": "text/x-python",
   "name": "python",
   "nbconvert_exporter": "python",
   "pygments_lexer": "ipython3",
   "version": "3.6.7"
  }
 },
 "nbformat": 4,
 "nbformat_minor": 4
}
